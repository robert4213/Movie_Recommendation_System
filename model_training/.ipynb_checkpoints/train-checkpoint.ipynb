{
 "cells": [
  {
   "cell_type": "code",
   "execution_count": 1,
   "metadata": {
    "colab": {
     "base_uri": "https://localhost:8080/",
     "height": 89
    },
    "colab_type": "code",
    "id": "SYIKOjpviG1D",
    "outputId": "4efb0c02-69ab-4f27-a246-ae343d6cdd58"
   },
   "outputs": [],
   "source": [
    "import numpy as np\n",
    "import pandas as pd\n",
    "from pyspark.mllib.recommendation import ALS, MatrixFactorizationModel, Rating\n",
    "from pyspark import SparkConf,SparkContext\n",
    "\n",
    "sc = SparkContext(\"local\", \"model training\")"
   ]
  },
  {
   "cell_type": "code",
   "execution_count": 2,
   "metadata": {
    "colab": {},
    "colab_type": "code",
    "id": "LRXEHQ01kasV"
   },
   "outputs": [],
   "source": [
    "train  = sc.textFile('E:/CMPE255/train.csv')\n",
    "test  = sc.textFile('E:/CMPE255/test.csv')\n",
    "\n",
    "header = train.first()\n",
    "train = train.filter(lambda x: x != header)\n",
    "\n",
    "header = test.first()\n",
    "test = test.filter(lambda x: x != header)\n",
    "ratings = train.map(lambda l: l.split(',')).map(lambda l:Rating(int(l[0]),int(l[1]),float(l[2])))"
   ]
  },
  {
   "cell_type": "code",
   "execution_count": 3,
   "metadata": {
    "colab": {},
    "colab_type": "code",
    "id": "-XuC5qOeqFUm"
   },
   "outputs": [],
   "source": [
    "# ratings = train.map(lambda l: l.split(',')).map(lambda l:Rating(int(l[0]),int(l[1]),float(l[2])))\n",
    "rank_list = [2,4,6,8,10,15,20,30,40,50]\n",
    "numItera_list = [5,10,20,30,40]\n",
    "\n",
    "valData = train.map(lambda l: l.split(',')).map(lambda l: (l[0],l[1]))\n",
    "testData = test.map(lambda l: l.split(',')).map(lambda l: (l[0],l[1]))\n",
    "\n",
    "rmse_train = [[0]*len(numItera_list) for _ in range(len(rank_list))]\n",
    "rmse_test = [[0]*len(numItera_list) for _ in range(len(rank_list))]"
   ]
  },
  {
   "cell_type": "code",
   "execution_count": null,
   "metadata": {},
   "outputs": [],
   "source": [
    "for rank_id,rank in enumerate(rank_list):\n",
    "    for numItera_id,numItera in enumerate(numItera_list):\n",
    "        model = ALS.train(ratings,rank,numItera)\n",
    "        predictionVal = model.predictAll(valData).map(lambda l:((l[0],l[1]),l[2]))\n",
    "        r_p = train.map(lambda l: l.split(',')).map(lambda l: ((int(l[0]),int(l[1])),float(l[2]))).join(predictionVal)\n",
    "        MSE = r_p.map(lambda l:(l[1][0]-l[1][1])**2).mean()\n",
    "        print(\"MES value: \",str(MSE))\n",
    "        rmse_train[rank_id][numItera_id] = float(MSE)\n",
    "        \n",
    "        prediction = model.predictAll(testData).map(lambda l:((l[0],l[1]),l[2]))\n",
    "        r_p = test.map(lambda l: l.split(',')).map(lambda l: ((int(l[0]),int(l[1])),float(l[2]))).join(prediction)\n",
    "        MSE = r_p.map(lambda l:(l[1][0]-l[1][1])**2).mean()\n",
    "        rmse_test[rank_id][numItera_id] = float(MSE)\n",
    "        "
   ]
  },
  {
   "cell_type": "code",
   "execution_count": null,
   "metadata": {},
   "outputs": [],
   "source": [
    "err_train = pd.Dataframe(rmse_train,column=numItera_list,index=rank_list)\n",
    "err_test = pd.Dataframe(rmse_test,column=numItera_list,index=rank_list)\n",
    "\n",
    "err_train.to_csv('err_train.csv')\n",
    "err_test.to_csv('err_test.csv')"
   ]
  },
  {
   "cell_type": "code",
   "execution_count": 0,
   "metadata": {
    "colab": {
     "base_uri": "https://localhost:8080/",
     "height": 35
    },
    "colab_type": "code",
    "id": "I94cwHCRs2Qx",
    "outputId": "7c00e47e-b1e6-473e-fab4-0c66df5e2008"
   },
   "outputs": [
    {
     "name": "stdout",
     "output_type": "stream",
     "text": [
      "MES value:  0.5095856010332751\n"
     ]
    }
   ],
   "source": [
    "# valData = train.map(lambda l: l.split(',')).map(lambda l: (l[0],l[1]))\n",
    "# predictionVal = model.predictAll(valData).map(lambda l:((l[0],l[1]),l[2]))\n",
    "# r_p = train.map(lambda l: l.split(',')).map(lambda l: ((int(l[0]),int(l[1])),float(l[2]))).join(predictionVal)\n",
    "# MSE = r_p.map(lambda l:(l[1][0]-l[1][1])**2).mean()\n",
    "# print(\"MES value: \",str(MSE))\n"
   ]
  },
  {
   "cell_type": "code",
   "execution_count": 0,
   "metadata": {
    "colab": {
     "base_uri": "https://localhost:8080/",
     "height": 35
    },
    "colab_type": "code",
    "id": "vySbJqw0rZWh",
    "outputId": "86227fe7-5f5c-4998-a055-d4559504912b"
   },
   "outputs": [
    {
     "name": "stdout",
     "output_type": "stream",
     "text": [
      "MES value:  0.6277331427332887\n"
     ]
    }
   ],
   "source": [
    "# testData = test.map(lambda l: l.split(',')).map(lambda l: (l[0],l[1]))\n",
    "# prediction = model.predictAll(testData).map(lambda l:((l[0],l[1]),l[2]))\n",
    "# r_p = test.map(lambda l: l.split(',')).map(lambda l: ((int(l[0]),int(l[1])),float(l[2]))).join(prediction)\n",
    "# MSE = r_p.map(lambda l:(l[1][0]-l[1][1])**2).mean()\n",
    "# print(\"MES value: \",str(MSE))"
   ]
  }
 ],
 "metadata": {
  "accelerator": "GPU",
  "colab": {
   "name": "Recommend_system.ipynb",
   "provenance": []
  },
  "kernelspec": {
   "display_name": "Python 3",
   "language": "python",
   "name": "python3"
  },
  "language_info": {
   "codemirror_mode": {
    "name": "ipython",
    "version": 3
   },
   "file_extension": ".py",
   "mimetype": "text/x-python",
   "name": "python",
   "nbconvert_exporter": "python",
   "pygments_lexer": "ipython3",
   "version": "3.6.8"
  }
 },
 "nbformat": 4,
 "nbformat_minor": 1
}
